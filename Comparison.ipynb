{
  "nbformat": 4,
  "nbformat_minor": 0,
  "metadata": {
    "colab": {
      "name": "Comparison.ipynb",
      "provenance": [],
      "collapsed_sections": []
    },
    "kernelspec": {
      "name": "python3",
      "display_name": "Python 3"
    }
  },
  "cells": [
    {
      "cell_type": "markdown",
      "metadata": {
        "id": "EyNLh6DTzEoa",
        "colab_type": "text"
      },
      "source": [
        "#### Final Project for Human Data Analytics course, a.y. 2019/2020\n",
        "\n",
        "#### University of Padua - Department of Mathematics\n",
        "\n",
        "# Locomotion modes recognition on subsets of Opportunity dataset\n",
        "\n",
        "## Comparison (3/3)\n",
        "\n",
        "*Alberto Bernardi* \\\\\n",
        "alberto.bernardi.6@studenti.unipd.it\n",
        "\n",
        "*Stefano Della Morte* \\\\\n",
        "stefano.dellamorte@studenti.unipd.it\n",
        "\n"
      ]
    },
    {
      "cell_type": "markdown",
      "metadata": {
        "id": "bB_kj-C4_i_U",
        "colab_type": "text"
      },
      "source": [
        "In this notebook we do the following tasks:\n",
        "* import scores of models stored in [Models notebook](https://colab.research.google.com/drive/11YslYdPONF6ajAnnB-actRCkZrFdelp_?usp=sharing);\n",
        "* compare models performance using barplots per class and per subset.\n",
        "\n",
        "This notebook is available also on Google Colab (barring removal by owners) at [this link](https://colab.research.google.com/drive/1C0mc-9KKolIAU0gIkQGes2funAXhLtW1?usp=sharing).\n",
        "\n",
        "The previous notebook, model design and training, is `Models.ipynb` if running in local or [here](https://colab.research.google.com/drive/11YslYdPONF6ajAnnB-actRCkZrFdelp_?usp=sharing) if using Colab.\n",
        "\n",
        "Notice that in both cases a folder for loading the dataset (and eventually also save plots and load model scores) is required. If using Colab use the provided cell to mount Google Drive or upload the Pandas dataframes on the remote machine.\n"
      ]
    },
    {
      "cell_type": "code",
      "metadata": {
        "id": "dqcL_G55UAOF",
        "colab_type": "code",
        "colab": {
          "base_uri": "https://localhost:8080/",
          "height": 72
        },
        "outputId": "9b73e37a-83f6-42b7-8750-1ea543936106"
      },
      "source": [
        "import pandas as pd\n",
        "import seaborn as sn\n",
        "import matplotlib.pyplot as plt\n",
        "from glob import glob\n",
        "sn.set()"
      ],
      "execution_count": null,
      "outputs": [
        {
          "output_type": "stream",
          "text": [
            "/usr/local/lib/python3.6/dist-packages/statsmodels/tools/_testing.py:19: FutureWarning: pandas.util.testing is deprecated. Use the functions in the public API at pandas.testing instead.\n",
            "  import pandas.util.testing as tm\n"
          ],
          "name": "stderr"
        }
      ]
    },
    {
      "cell_type": "markdown",
      "metadata": {
        "id": "YdStZc1AFvFc",
        "colab_type": "text"
      },
      "source": [
        "If using Colab, you may want to load data from Google Drive. Run this cell to mount your Drive folder on remote machine."
      ]
    },
    {
      "cell_type": "code",
      "metadata": {
        "id": "BJyKC_RNUMvx",
        "colab_type": "code",
        "colab": {
          "base_uri": "https://localhost:8080/",
          "height": 124
        },
        "outputId": "cee95031-e6e6-4dcd-d229-cea692dd4c77"
      },
      "source": [
        "from google.colab import drive\n",
        "drive.mount('/content/drive')"
      ],
      "execution_count": null,
      "outputs": [
        {
          "output_type": "stream",
          "text": [
            "Go to this URL in a browser: https://accounts.google.com/o/oauth2/auth?client_id=947318989803-6bn6qk8qdgf4n4g3pfee6491hc0brc4i.apps.googleusercontent.com&redirect_uri=urn%3aietf%3awg%3aoauth%3a2.0%3aoob&response_type=code&scope=email%20https%3a%2f%2fwww.googleapis.com%2fauth%2fdocs.test%20https%3a%2f%2fwww.googleapis.com%2fauth%2fdrive%20https%3a%2f%2fwww.googleapis.com%2fauth%2fdrive.photos.readonly%20https%3a%2f%2fwww.googleapis.com%2fauth%2fpeopleapi.readonly\n",
            "\n",
            "Enter your authorization code:\n",
            "··········\n",
            "Mounted at /content/drive\n"
          ],
          "name": "stdout"
        }
      ]
    },
    {
      "cell_type": "code",
      "metadata": {
        "id": "5l21e3QMUyzi",
        "colab_type": "code",
        "colab": {}
      },
      "source": [
        "DIR_PATH = './'"
      ],
      "execution_count": null,
      "outputs": []
    },
    {
      "cell_type": "markdown",
      "metadata": {
        "id": "hp3lmz53FYA3",
        "colab_type": "text"
      },
      "source": [
        "Run to see the file names of the models available in `./scores/` directory."
      ]
    },
    {
      "cell_type": "code",
      "metadata": {
        "id": "3eMcZI4VVG0v",
        "colab_type": "code",
        "colab": {
          "base_uri": "https://localhost:8080/",
          "height": 54
        },
        "outputId": "9c35c811-258a-4366-c2ce-0a2a14ba3c1c"
      },
      "source": [
        "scores = glob(DIR_PATH + 'scores/*.csv')\n",
        "scores.sort()\n",
        "names = [score[len(DIR_PATH)+7 : -4] for score in scores]\n",
        "print(\"Loaded models:\", names)"
      ],
      "execution_count": null,
      "outputs": [
        {
          "output_type": "stream",
          "text": [
            "Loaded models: ['all_cnn', 'all_cnn_alt', 'all_cnn_rnn', 'body_shoes_cnn', 'body_shoes_cnn_alt', 'body_shoes_cnn_rnn', 'tiny_cnn', 'tiny_cnn_alt', 'tiny_cnn_rnn']\n"
          ],
          "name": "stdout"
        }
      ]
    },
    {
      "cell_type": "markdown",
      "metadata": {
        "id": "v8ZyQz2KGfXg",
        "colab_type": "text"
      },
      "source": [
        "# Plots"
      ]
    },
    {
      "cell_type": "markdown",
      "metadata": {
        "id": "DJvubuyqGhwi",
        "colab_type": "text"
      },
      "source": [
        "## Barplot per class\n",
        "In the cell below you can specify the metric you want to plot. By default, stored metrics are `'F1-Score'`, `'Precision'` and `'Recall'`."
      ]
    },
    {
      "cell_type": "code",
      "metadata": {
        "id": "EWjuNgcodTAM",
        "colab_type": "code",
        "colab": {}
      },
      "source": [
        "metric = 'F1-score'\n",
        "\n",
        "df = [pd.read_csv(score, index_col = 0).loc[metric] for score in scores]\n",
        "df = pd.DataFrame(df, index = names).T\n",
        "df"
      ],
      "execution_count": null,
      "outputs": []
    },
    {
      "cell_type": "code",
      "metadata": {
        "id": "9QFVRlDMegla",
        "colab_type": "code",
        "colab": {
          "base_uri": "https://localhost:8080/",
          "height": 358
        },
        "outputId": "1615d79b-3ef1-489b-e751-3b9f269a3fc2"
      },
      "source": [
        "_ = df.plot(kind = 'bar', figsize = (12,5), width = 0.8)\n",
        "_ = plt.legend(bbox_to_anchor=(1.15, 0.5), loc=10, borderaxespad=0.)"
      ],
      "execution_count": null,
      "outputs": [
        {
          "output_type": "display_data",
          "data": {
            "image/png": "[encoded data removed]",
            "text/plain": [
              "<Figure size 864x360 with 1 Axes>"
            ]
          },
          "metadata": {
            "tags": [],
            "needs_background": "light"
          }
        }
      ]
    },
    {
      "cell_type": "markdown",
      "metadata": {
        "id": "NAca95vxG7nL",
        "colab_type": "text"
      },
      "source": [
        "## Barplot per subset\n",
        "Be careful! This plot depends on the data of the previous one. They must be run sequentially."
      ]
    },
    {
      "cell_type": "code",
      "metadata": {
        "id": "1p6khYq3pxtp",
        "colab_type": "code",
        "colab": {}
      },
      "source": [
        "df2 = pd.DataFrame(df.loc['Average'].values.reshape(3,3),\n",
        "                   index=['All accelerometers and IMUs',\n",
        "                          'All accelerometers and shoes',\n",
        "                          'RKN, HIP, BACK, RWR and shoes'],\n",
        "                   columns=['CNN 2D', 'CNN alt', 'CNN+RNN'])\n",
        "df2"
      ],
      "execution_count": null,
      "outputs": []
    },
    {
      "cell_type": "code",
      "metadata": {
        "id": "qM-HKJI7r7PK",
        "colab_type": "code",
        "colab": {
          "base_uri": "https://localhost:8080/",
          "height": 217
        },
        "outputId": "e7a5d938-8681-48da-aeef-db6796538831"
      },
      "source": [
        "_ = df2.plot(kind = 'bar', figsize = (11,3), width = 0.8)\n",
        "_ = plt.ylim(0.75, 0.88)\n",
        "_ = plt.xticks(rotation=0)\n",
        "\n",
        "#plt.savefig(DIR_PATH + 'plots/barplot.pdf')"
      ],
      "execution_count": null,
      "outputs": [
        {
          "output_type": "display_data",
          "data": {
            "image/png": "[encoded data removed]",
            "text/plain": [
              "<Figure size 792x216 with 1 Axes>"
            ]
          },
          "metadata": {
            "tags": [],
            "needs_background": "light"
          }
        }
      ]
    }
  ]
}